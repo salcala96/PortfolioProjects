{
 "cells": [
  {
   "cell_type": "code",
   "execution_count": 2,
   "id": "e8997785-61a5-40c5-8574-b44d98176612",
   "metadata": {},
   "outputs": [],
   "source": [
    "import random\n",
    "import tkinter as tk"
   ]
  },
  {
   "cell_type": "code",
   "execution_count": 3,
   "id": "c6a9056e-6707-4a3f-b700-ff665b5fa611",
   "metadata": {},
   "outputs": [
    {
     "data": {
      "text/plain": [
       "''"
      ]
     },
     "execution_count": 3,
     "metadata": {},
     "output_type": "execute_result"
    }
   ],
   "source": [
    "window = tk.Tk()\n",
    "window.geometry(\"250x250\")\n",
    "window.title(\"Rock Paper Scissors Game\")"
   ]
  },
  {
   "cell_type": "code",
   "execution_count": 4,
   "id": "592bd944-b1c8-4e2d-ac16-f4e43452f35c",
   "metadata": {},
   "outputs": [],
   "source": [
    "user_score = 0\n",
    "comp_score = 0\n",
    "user_choice = \"\"\n",
    "comp_choice = \"\""
   ]
  },
  {
   "cell_type": "code",
   "execution_count": 5,
   "id": "f8ac6c56-e871-40c8-b925-31d9da404100",
   "metadata": {},
   "outputs": [],
   "source": [
    "def choice_to_number(choice):\n",
    "    rps = {'rock':0, 'paper':1, 'scissors':2}\n",
    "    return rps[choice]\n",
    "def number_to_choice(number):\n",
    "    rps = {0:'rock', 1:'paper', 2:'scissors'}\n",
    "    return rps[number]\n",
    "def random_computer_choice():\n",
    "    return random.choice(['rock', 'paper', 'scissors'])"
   ]
  },
  {
   "cell_type": "code",
   "execution_count": 6,
   "id": "81197fed-ab0a-472e-b491-d1dc721b89f0",
   "metadata": {},
   "outputs": [],
   "source": [
    "def result(human_choice, comp_choice):\n",
    "    global user_score\n",
    "    global comp_score\n",
    "    user=choice_to_number(human_choice)\n",
    "    comp=choice_to_number(comp_choice)\n",
    "    if(user==comp):\n",
    "        print('Tie!')\n",
    "    elif((user-comp)%3==1):\n",
    "        print('You Win!')\n",
    "        user_score+=1\n",
    "    else:\n",
    "        print('Computer Wins :(')\n",
    "        comp_score+=1\n",
    "    text_area = tk.Text(master=window,height=12,width=30,bg=\"#79cdcd\")\n",
    "    text_area.grid(column=0,row=4)\n",
    "    answer = \"Your Choice : {uc} \\nComputer's Choice : {cc} \\nYour Score : {u} \\nComputer Score : {c} \".format(uc=user_choice,cc=comp_choice,u=user_score,c=comp_score)\n",
    "    text_area.insert(tk.END,answer)"
   ]
  },
  {
   "cell_type": "code",
   "execution_count": 7,
   "id": "b545b1cc-3c19-4a38-8729-39698a462837",
   "metadata": {},
   "outputs": [],
   "source": [
    "def rock():\n",
    "    global user_choice\n",
    "    global comp_choice\n",
    "    user_choice='rock'\n",
    "    comp_choice=random_computer_choice()\n",
    "    result(user_choice,comp_choice)\n",
    "def paper():\n",
    "    global user_choice\n",
    "    global comp_choice\n",
    "    user_choice='paper'\n",
    "    comp_choice=random_computer_choice()\n",
    "    result(user_choice,comp_choice)\n",
    "def scissors():\n",
    "    global user_choice\n",
    "    global comp_choice\n",
    "    user_choice='scissors'\n",
    "    comp_choice=random_computer_choice()\n",
    "    result(user_choice,comp_choice)"
   ]
  },
  {
   "cell_type": "code",
   "execution_count": 8,
   "id": "0079fd0c-4046-4fcd-a545-f3a1e5c6149e",
   "metadata": {},
   "outputs": [],
   "source": [
    "button1 = tk.Button(text='         Rock         ',bg=\"#548f8f\",fg=\"white\",command=rock)\n",
    "button1.grid(column=0, row=1)\n",
    "button2 = tk.Button(text='         Paper         ',bg=\"#60a4a4\",fg=\"white\",command=paper)\n",
    "button2.grid(column=0, row=2)\n",
    "button3 = tk.Button(text='        Scissors         ',bg=\"#6cb8b8\",fg=\"white\",command=scissors)\n",
    "button3.grid(column=0, row=3) "
   ]
  },
  {
   "cell_type": "code",
   "execution_count": 9,
   "id": "f9038d53-922f-41ae-a6f3-3b778c48a03d",
   "metadata": {},
   "outputs": [
    {
     "name": "stdout",
     "output_type": "stream",
     "text": [
      "You Win!\n",
      "Computer Wins :(\n",
      "Tie!\n",
      "You Win!\n",
      "Tie!\n",
      "Computer Wins :(\n",
      "Tie!\n",
      "You Win!\n",
      "You Win!\n",
      "You Win!\n",
      "Tie!\n"
     ]
    }
   ],
   "source": [
    "window.mainloop()"
   ]
  },
  {
   "cell_type": "code",
   "execution_count": null,
   "id": "ac1d58dc-6fa5-4acf-af8f-67105ed696d3",
   "metadata": {},
   "outputs": [],
   "source": []
  }
 ],
 "metadata": {
  "kernelspec": {
   "display_name": "Python 3",
   "language": "python",
   "name": "python3"
  },
  "language_info": {
   "codemirror_mode": {
    "name": "ipython",
    "version": 3
   },
   "file_extension": ".py",
   "mimetype": "text/x-python",
   "name": "python",
   "nbconvert_exporter": "python",
   "pygments_lexer": "ipython3",
   "version": "3.8.8"
  }
 },
 "nbformat": 4,
 "nbformat_minor": 5
}
