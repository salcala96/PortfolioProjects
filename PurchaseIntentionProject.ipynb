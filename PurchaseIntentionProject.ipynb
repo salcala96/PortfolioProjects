{
 "cells": [
  {
   "cell_type": "markdown",
   "id": "2d2e6cea-8f9b-4278-9cb3-f32d88495662",
   "metadata": {},
   "source": [
    "# Predicting Online Shoppers Purchase Intentions"
   ]
  },
  {
   "cell_type": "markdown",
   "id": "4bee1628-1e13-46a7-b753-05fe561d69da",
   "metadata": {},
   "source": [
    "> #### Sienna Alcala, Mackenzie Hesse, and Sarah Privette"
   ]
  },
  {
   "cell_type": "markdown",
   "id": "df7965fe-e418-41aa-86ec-1d848f735602",
   "metadata": {},
   "source": [
    "Data Source: http://archive.ics.uci.edu/ml/datasets/Online+Shoppers+Purchasing+Intention+Dataset"
   ]
  },
  {
   "cell_type": "markdown",
   "id": "eb532fe9-4898-48d4-863e-a386e87ff67a",
   "metadata": {},
   "source": [
    "***"
   ]
  },
  {
   "cell_type": "markdown",
   "id": "566184b3-9fdc-4bff-8eea-4655d02cca22",
   "metadata": {},
   "source": [
    "### Project Purpose"
   ]
  },
  {
   "cell_type": "markdown",
   "id": "4a4c323f-889a-4c1c-afe7-b4c8e4b9e808",
   "metadata": {},
   "source": [
    "The pandemic has caused many changes in consumer behavior. Customers are utilizing online shopping more than ever, forcing companies to update their platforms to include options such as curbside pick-up and 2-hour delivery. With the changing market businesses need to focus on ways they can increase their e-commerce sales. However, many businesses are faced with limited resources to target efforts at this increased online shopping presence. \n",
    "\n",
    "In order to focus on marketing efforts efficiently, we propose the following __solution:__\n",
    "\n",
    "Use classification algorithms to train machine learning models to predict whether a customer is going to make a purchase. \n",
    "\n",
    "__Future use:__\n",
    "A company could deploy the best performing model on their websites' backend to predict, in real-time, whether a customer is likely to make a purchase. With this information, marketing efforts could be targeted at those shoppers predicted __not__ to make a purchase, preventing the waste of coupons etc. on consumers likely to purchase anyways. "
   ]
  },
  {
   "cell_type": "markdown",
   "id": "0c242ffa-519e-42c8-acff-363a3dab0e11",
   "metadata": {},
   "source": [
    "#### Load Data"
   ]
  },
  {
   "cell_type": "code",
   "execution_count": 22,
   "id": "c26d92fa-83f3-4942-9404-73f0db8ca0af",
   "metadata": {
    "tags": []
   },
   "outputs": [],
   "source": [
    "import numpy as np\n",
    "import pandas as pd\n",
    "from sklearn.model_selection import train_test_split\n",
    "import matplotlib.pyplot as plt"
   ]
  },
  {
   "cell_type": "code",
   "execution_count": 23,
   "id": "a2d158ca-b460-467e-b1f0-326b9182346c",
   "metadata": {
    "tags": []
   },
   "outputs": [],
   "source": [
    "dataSet = pd.read_csv('online_shoppers_intention.csv')"
   ]
  },
  {
   "cell_type": "markdown",
   "id": "3504049a-430f-4f1e-ba63-f7f00e0e7dff",
   "metadata": {},
   "source": [
    "#### Identify Features & View Data"
   ]
  },
  {
   "cell_type": "code",
   "execution_count": 24,
   "id": "bbb4ba1e-5762-4a5b-8bb2-d36266d99356",
   "metadata": {},
   "outputs": [
    {
     "name": "stdout",
     "output_type": "stream",
     "text": [
      "['Administrative', 'Administrative_Duration', 'Informational', 'Informational_Duration', 'ProductRelated', 'ProductRelated_Duration', 'BounceRates', 'ExitRates', 'PageValues', 'SpecialDay', 'Month', 'OperatingSystems', 'Browser', 'Region', 'TrafficType', 'VisitorType', 'Weekend', 'Revenue']\n"
     ]
    }
   ],
   "source": [
    "features = list(dataSet.columns)[:]\n",
    "print(features)"
   ]
  },
  {
   "cell_type": "code",
   "execution_count": 25,
   "id": "8b8e37fa-5d39-47f5-81fd-e9f310f2449f",
   "metadata": {},
   "outputs": [
    {
     "data": {
      "text/html": [
       "<div>\n",
       "<style scoped>\n",
       "    .dataframe tbody tr th:only-of-type {\n",
       "        vertical-align: middle;\n",
       "    }\n",
       "\n",
       "    .dataframe tbody tr th {\n",
       "        vertical-align: top;\n",
       "    }\n",
       "\n",
       "    .dataframe thead th {\n",
       "        text-align: right;\n",
       "    }\n",
       "</style>\n",
       "<table border=\"1\" class=\"dataframe\">\n",
       "  <thead>\n",
       "    <tr style=\"text-align: right;\">\n",
       "      <th></th>\n",
       "      <th>Administrative</th>\n",
       "      <th>Administrative_Duration</th>\n",
       "      <th>Informational</th>\n",
       "      <th>Informational_Duration</th>\n",
       "      <th>ProductRelated</th>\n",
       "      <th>ProductRelated_Duration</th>\n",
       "      <th>BounceRates</th>\n",
       "      <th>ExitRates</th>\n",
       "      <th>PageValues</th>\n",
       "      <th>SpecialDay</th>\n",
       "      <th>Month</th>\n",
       "      <th>OperatingSystems</th>\n",
       "      <th>Browser</th>\n",
       "      <th>Region</th>\n",
       "      <th>TrafficType</th>\n",
       "      <th>VisitorType</th>\n",
       "      <th>Weekend</th>\n",
       "      <th>Revenue</th>\n",
       "    </tr>\n",
       "  </thead>\n",
       "  <tbody>\n",
       "    <tr>\n",
       "      <th>0</th>\n",
       "      <td>0</td>\n",
       "      <td>0.0</td>\n",
       "      <td>0</td>\n",
       "      <td>0.0</td>\n",
       "      <td>1</td>\n",
       "      <td>0.000000</td>\n",
       "      <td>0.20</td>\n",
       "      <td>0.20</td>\n",
       "      <td>0.0</td>\n",
       "      <td>0.0</td>\n",
       "      <td>Feb</td>\n",
       "      <td>1</td>\n",
       "      <td>1</td>\n",
       "      <td>1</td>\n",
       "      <td>1</td>\n",
       "      <td>Returning_Visitor</td>\n",
       "      <td>False</td>\n",
       "      <td>False</td>\n",
       "    </tr>\n",
       "    <tr>\n",
       "      <th>1</th>\n",
       "      <td>0</td>\n",
       "      <td>0.0</td>\n",
       "      <td>0</td>\n",
       "      <td>0.0</td>\n",
       "      <td>2</td>\n",
       "      <td>64.000000</td>\n",
       "      <td>0.00</td>\n",
       "      <td>0.10</td>\n",
       "      <td>0.0</td>\n",
       "      <td>0.0</td>\n",
       "      <td>Feb</td>\n",
       "      <td>2</td>\n",
       "      <td>2</td>\n",
       "      <td>1</td>\n",
       "      <td>2</td>\n",
       "      <td>Returning_Visitor</td>\n",
       "      <td>False</td>\n",
       "      <td>False</td>\n",
       "    </tr>\n",
       "    <tr>\n",
       "      <th>2</th>\n",
       "      <td>0</td>\n",
       "      <td>0.0</td>\n",
       "      <td>0</td>\n",
       "      <td>0.0</td>\n",
       "      <td>1</td>\n",
       "      <td>0.000000</td>\n",
       "      <td>0.20</td>\n",
       "      <td>0.20</td>\n",
       "      <td>0.0</td>\n",
       "      <td>0.0</td>\n",
       "      <td>Feb</td>\n",
       "      <td>4</td>\n",
       "      <td>1</td>\n",
       "      <td>9</td>\n",
       "      <td>3</td>\n",
       "      <td>Returning_Visitor</td>\n",
       "      <td>False</td>\n",
       "      <td>False</td>\n",
       "    </tr>\n",
       "    <tr>\n",
       "      <th>3</th>\n",
       "      <td>0</td>\n",
       "      <td>0.0</td>\n",
       "      <td>0</td>\n",
       "      <td>0.0</td>\n",
       "      <td>2</td>\n",
       "      <td>2.666667</td>\n",
       "      <td>0.05</td>\n",
       "      <td>0.14</td>\n",
       "      <td>0.0</td>\n",
       "      <td>0.0</td>\n",
       "      <td>Feb</td>\n",
       "      <td>3</td>\n",
       "      <td>2</td>\n",
       "      <td>2</td>\n",
       "      <td>4</td>\n",
       "      <td>Returning_Visitor</td>\n",
       "      <td>False</td>\n",
       "      <td>False</td>\n",
       "    </tr>\n",
       "    <tr>\n",
       "      <th>4</th>\n",
       "      <td>0</td>\n",
       "      <td>0.0</td>\n",
       "      <td>0</td>\n",
       "      <td>0.0</td>\n",
       "      <td>10</td>\n",
       "      <td>627.500000</td>\n",
       "      <td>0.02</td>\n",
       "      <td>0.05</td>\n",
       "      <td>0.0</td>\n",
       "      <td>0.0</td>\n",
       "      <td>Feb</td>\n",
       "      <td>3</td>\n",
       "      <td>3</td>\n",
       "      <td>1</td>\n",
       "      <td>4</td>\n",
       "      <td>Returning_Visitor</td>\n",
       "      <td>True</td>\n",
       "      <td>False</td>\n",
       "    </tr>\n",
       "  </tbody>\n",
       "</table>\n",
       "</div>"
      ],
      "text/plain": [
       "   Administrative  Administrative_Duration  Informational  \\\n",
       "0               0                      0.0              0   \n",
       "1               0                      0.0              0   \n",
       "2               0                      0.0              0   \n",
       "3               0                      0.0              0   \n",
       "4               0                      0.0              0   \n",
       "\n",
       "   Informational_Duration  ProductRelated  ProductRelated_Duration  \\\n",
       "0                     0.0               1                 0.000000   \n",
       "1                     0.0               2                64.000000   \n",
       "2                     0.0               1                 0.000000   \n",
       "3                     0.0               2                 2.666667   \n",
       "4                     0.0              10               627.500000   \n",
       "\n",
       "   BounceRates  ExitRates  PageValues  SpecialDay Month  OperatingSystems  \\\n",
       "0         0.20       0.20         0.0         0.0   Feb                 1   \n",
       "1         0.00       0.10         0.0         0.0   Feb                 2   \n",
       "2         0.20       0.20         0.0         0.0   Feb                 4   \n",
       "3         0.05       0.14         0.0         0.0   Feb                 3   \n",
       "4         0.02       0.05         0.0         0.0   Feb                 3   \n",
       "\n",
       "   Browser  Region  TrafficType        VisitorType  Weekend  Revenue  \n",
       "0        1       1            1  Returning_Visitor    False    False  \n",
       "1        2       1            2  Returning_Visitor    False    False  \n",
       "2        1       9            3  Returning_Visitor    False    False  \n",
       "3        2       2            4  Returning_Visitor    False    False  \n",
       "4        3       1            4  Returning_Visitor     True    False  "
      ]
     },
     "execution_count": 25,
     "metadata": {},
     "output_type": "execute_result"
    }
   ],
   "source": [
    "dataSet.head()"
   ]
  },
  {
   "cell_type": "code",
   "execution_count": 26,
   "id": "21de9e70-5833-40ec-a6b9-445c7b1a85e4",
   "metadata": {},
   "outputs": [
    {
     "data": {
      "text/html": [
       "<div>\n",
       "<style scoped>\n",
       "    .dataframe tbody tr th:only-of-type {\n",
       "        vertical-align: middle;\n",
       "    }\n",
       "\n",
       "    .dataframe tbody tr th {\n",
       "        vertical-align: top;\n",
       "    }\n",
       "\n",
       "    .dataframe thead th {\n",
       "        text-align: right;\n",
       "    }\n",
       "</style>\n",
       "<table border=\"1\" class=\"dataframe\">\n",
       "  <thead>\n",
       "    <tr style=\"text-align: right;\">\n",
       "      <th></th>\n",
       "      <th>Administrative</th>\n",
       "      <th>Administrative_Duration</th>\n",
       "      <th>Informational</th>\n",
       "      <th>Informational_Duration</th>\n",
       "      <th>ProductRelated</th>\n",
       "      <th>ProductRelated_Duration</th>\n",
       "      <th>BounceRates</th>\n",
       "      <th>ExitRates</th>\n",
       "      <th>PageValues</th>\n",
       "      <th>SpecialDay</th>\n",
       "      <th>OperatingSystems</th>\n",
       "      <th>Browser</th>\n",
       "      <th>Region</th>\n",
       "      <th>TrafficType</th>\n",
       "    </tr>\n",
       "  </thead>\n",
       "  <tbody>\n",
       "    <tr>\n",
       "      <th>count</th>\n",
       "      <td>12330.000000</td>\n",
       "      <td>12330.000000</td>\n",
       "      <td>12330.000000</td>\n",
       "      <td>12330.000000</td>\n",
       "      <td>12330.000000</td>\n",
       "      <td>12330.000000</td>\n",
       "      <td>12330.000000</td>\n",
       "      <td>12330.000000</td>\n",
       "      <td>12330.000000</td>\n",
       "      <td>12330.000000</td>\n",
       "      <td>12330.000000</td>\n",
       "      <td>12330.000000</td>\n",
       "      <td>12330.000000</td>\n",
       "      <td>12330.000000</td>\n",
       "    </tr>\n",
       "    <tr>\n",
       "      <th>mean</th>\n",
       "      <td>2.315166</td>\n",
       "      <td>80.818611</td>\n",
       "      <td>0.503569</td>\n",
       "      <td>34.472398</td>\n",
       "      <td>31.731468</td>\n",
       "      <td>1194.746220</td>\n",
       "      <td>0.022191</td>\n",
       "      <td>0.043073</td>\n",
       "      <td>5.889258</td>\n",
       "      <td>0.061427</td>\n",
       "      <td>2.124006</td>\n",
       "      <td>2.357097</td>\n",
       "      <td>3.147364</td>\n",
       "      <td>4.069586</td>\n",
       "    </tr>\n",
       "    <tr>\n",
       "      <th>std</th>\n",
       "      <td>3.321784</td>\n",
       "      <td>176.779107</td>\n",
       "      <td>1.270156</td>\n",
       "      <td>140.749294</td>\n",
       "      <td>44.475503</td>\n",
       "      <td>1913.669288</td>\n",
       "      <td>0.048488</td>\n",
       "      <td>0.048597</td>\n",
       "      <td>18.568437</td>\n",
       "      <td>0.198917</td>\n",
       "      <td>0.911325</td>\n",
       "      <td>1.717277</td>\n",
       "      <td>2.401591</td>\n",
       "      <td>4.025169</td>\n",
       "    </tr>\n",
       "    <tr>\n",
       "      <th>min</th>\n",
       "      <td>0.000000</td>\n",
       "      <td>0.000000</td>\n",
       "      <td>0.000000</td>\n",
       "      <td>0.000000</td>\n",
       "      <td>0.000000</td>\n",
       "      <td>0.000000</td>\n",
       "      <td>0.000000</td>\n",
       "      <td>0.000000</td>\n",
       "      <td>0.000000</td>\n",
       "      <td>0.000000</td>\n",
       "      <td>1.000000</td>\n",
       "      <td>1.000000</td>\n",
       "      <td>1.000000</td>\n",
       "      <td>1.000000</td>\n",
       "    </tr>\n",
       "    <tr>\n",
       "      <th>25%</th>\n",
       "      <td>0.000000</td>\n",
       "      <td>0.000000</td>\n",
       "      <td>0.000000</td>\n",
       "      <td>0.000000</td>\n",
       "      <td>7.000000</td>\n",
       "      <td>184.137500</td>\n",
       "      <td>0.000000</td>\n",
       "      <td>0.014286</td>\n",
       "      <td>0.000000</td>\n",
       "      <td>0.000000</td>\n",
       "      <td>2.000000</td>\n",
       "      <td>2.000000</td>\n",
       "      <td>1.000000</td>\n",
       "      <td>2.000000</td>\n",
       "    </tr>\n",
       "    <tr>\n",
       "      <th>50%</th>\n",
       "      <td>1.000000</td>\n",
       "      <td>7.500000</td>\n",
       "      <td>0.000000</td>\n",
       "      <td>0.000000</td>\n",
       "      <td>18.000000</td>\n",
       "      <td>598.936905</td>\n",
       "      <td>0.003112</td>\n",
       "      <td>0.025156</td>\n",
       "      <td>0.000000</td>\n",
       "      <td>0.000000</td>\n",
       "      <td>2.000000</td>\n",
       "      <td>2.000000</td>\n",
       "      <td>3.000000</td>\n",
       "      <td>2.000000</td>\n",
       "    </tr>\n",
       "    <tr>\n",
       "      <th>75%</th>\n",
       "      <td>4.000000</td>\n",
       "      <td>93.256250</td>\n",
       "      <td>0.000000</td>\n",
       "      <td>0.000000</td>\n",
       "      <td>38.000000</td>\n",
       "      <td>1464.157214</td>\n",
       "      <td>0.016813</td>\n",
       "      <td>0.050000</td>\n",
       "      <td>0.000000</td>\n",
       "      <td>0.000000</td>\n",
       "      <td>3.000000</td>\n",
       "      <td>2.000000</td>\n",
       "      <td>4.000000</td>\n",
       "      <td>4.000000</td>\n",
       "    </tr>\n",
       "    <tr>\n",
       "      <th>max</th>\n",
       "      <td>27.000000</td>\n",
       "      <td>3398.750000</td>\n",
       "      <td>24.000000</td>\n",
       "      <td>2549.375000</td>\n",
       "      <td>705.000000</td>\n",
       "      <td>63973.522230</td>\n",
       "      <td>0.200000</td>\n",
       "      <td>0.200000</td>\n",
       "      <td>361.763742</td>\n",
       "      <td>1.000000</td>\n",
       "      <td>8.000000</td>\n",
       "      <td>13.000000</td>\n",
       "      <td>9.000000</td>\n",
       "      <td>20.000000</td>\n",
       "    </tr>\n",
       "  </tbody>\n",
       "</table>\n",
       "</div>"
      ],
      "text/plain": [
       "       Administrative  Administrative_Duration  Informational  \\\n",
       "count    12330.000000             12330.000000   12330.000000   \n",
       "mean         2.315166                80.818611       0.503569   \n",
       "std          3.321784               176.779107       1.270156   \n",
       "min          0.000000                 0.000000       0.000000   \n",
       "25%          0.000000                 0.000000       0.000000   \n",
       "50%          1.000000                 7.500000       0.000000   \n",
       "75%          4.000000                93.256250       0.000000   \n",
       "max         27.000000              3398.750000      24.000000   \n",
       "\n",
       "       Informational_Duration  ProductRelated  ProductRelated_Duration  \\\n",
       "count            12330.000000    12330.000000             12330.000000   \n",
       "mean                34.472398       31.731468              1194.746220   \n",
       "std                140.749294       44.475503              1913.669288   \n",
       "min                  0.000000        0.000000                 0.000000   \n",
       "25%                  0.000000        7.000000               184.137500   \n",
       "50%                  0.000000       18.000000               598.936905   \n",
       "75%                  0.000000       38.000000              1464.157214   \n",
       "max               2549.375000      705.000000             63973.522230   \n",
       "\n",
       "        BounceRates     ExitRates    PageValues    SpecialDay  \\\n",
       "count  12330.000000  12330.000000  12330.000000  12330.000000   \n",
       "mean       0.022191      0.043073      5.889258      0.061427   \n",
       "std        0.048488      0.048597     18.568437      0.198917   \n",
       "min        0.000000      0.000000      0.000000      0.000000   \n",
       "25%        0.000000      0.014286      0.000000      0.000000   \n",
       "50%        0.003112      0.025156      0.000000      0.000000   \n",
       "75%        0.016813      0.050000      0.000000      0.000000   \n",
       "max        0.200000      0.200000    361.763742      1.000000   \n",
       "\n",
       "       OperatingSystems       Browser        Region   TrafficType  \n",
       "count      12330.000000  12330.000000  12330.000000  12330.000000  \n",
       "mean           2.124006      2.357097      3.147364      4.069586  \n",
       "std            0.911325      1.717277      2.401591      4.025169  \n",
       "min            1.000000      1.000000      1.000000      1.000000  \n",
       "25%            2.000000      2.000000      1.000000      2.000000  \n",
       "50%            2.000000      2.000000      3.000000      2.000000  \n",
       "75%            3.000000      2.000000      4.000000      4.000000  \n",
       "max            8.000000     13.000000      9.000000     20.000000  "
      ]
     },
     "execution_count": 26,
     "metadata": {},
     "output_type": "execute_result"
    }
   ],
   "source": [
    "dataSet.describe()"
   ]
  },
  {
   "cell_type": "markdown",
   "id": "0c5bd6b0-c30c-44e4-8e02-da92f084c4ed",
   "metadata": {},
   "source": [
    "#### Check for Missing Values"
   ]
  },
  {
   "cell_type": "code",
   "execution_count": 27,
   "id": "57e93d20-6ea3-4ab8-9c97-3d5ac8bfaed4",
   "metadata": {
    "tags": []
   },
   "outputs": [
    {
     "data": {
      "text/plain": [
       "Administrative             0\n",
       "Administrative_Duration    0\n",
       "Informational              0\n",
       "Informational_Duration     0\n",
       "ProductRelated             0\n",
       "ProductRelated_Duration    0\n",
       "BounceRates                0\n",
       "ExitRates                  0\n",
       "PageValues                 0\n",
       "SpecialDay                 0\n",
       "Month                      0\n",
       "OperatingSystems           0\n",
       "Browser                    0\n",
       "Region                     0\n",
       "TrafficType                0\n",
       "VisitorType                0\n",
       "Weekend                    0\n",
       "Revenue                    0\n",
       "dtype: int64"
      ]
     },
     "execution_count": 27,
     "metadata": {},
     "output_type": "execute_result"
    }
   ],
   "source": [
    "dataSet.isnull().sum()"
   ]
  },
  {
   "cell_type": "markdown",
   "id": "816b2567-3b39-4563-a67b-0f1ee3e60d85",
   "metadata": {},
   "source": [
    "#### Visit Date Analysis"
   ]
  },
  {
   "cell_type": "markdown",
   "id": "c4c55a4a-9a04-4d1a-bade-02ee4178bc43",
   "metadata": {},
   "source": [
    "The top 3 months Customers were most likely to make purchases were November, May, and December"
   ]
  },
  {
   "cell_type": "code",
   "execution_count": 28,
   "id": "98801d21-283c-476c-8a5c-ace2fffb8f77",
   "metadata": {
    "tags": []
   },
   "outputs": [
    {
     "data": {
      "image/png": "[encoded data removed]",
      "text/plain": [
       "<Figure size 1296x864 with 1 Axes>"
      ]
     },
     "metadata": {
      "needs_background": "light"
     },
     "output_type": "display_data"
    }
   ],
   "source": [
    "import seaborn as sns\n",
    "fig = plt.figure(figsize=(18, 12))\n",
    "\n",
    "ax1 = fig.add_subplot(2, 1, 1)\n",
    "\n",
    "orderlist = ['Jan','Feb','Mar','Apr','May','June','Jul','Aug','Sep','Oct','Nov','Dec']\n",
    "sns.countplot(data=dataSet, x='Month', hue='Revenue', ax=ax1, order=orderlist)\n",
    "\n",
    "plt.tight_layout()\n",
    "plt.show()"
   ]
  },
  {
   "cell_type": "code",
   "execution_count": 29,
   "id": "df2d303b-9f26-4133-a869-a37ec9b6b264",
   "metadata": {},
   "outputs": [
    {
     "data": {
      "image/png": "[encoded data removed]",
      "text/plain": [
       "<Figure size 864x432 with 1 Axes>"
      ]
     },
     "metadata": {},
     "output_type": "display_data"
    }
   ],
   "source": [
    "plt.figure(figsize=(12, 6))\n",
    "plt.pie(dataSet[dataSet['Revenue'] == 1]['Weekend'].value_counts(),explode=(0.1,0),labels=['Weekday','Weekend'], autopct='%1.0f%%')\n",
    "plt.title('Weekend vs. Weekday Purchases')\n",
    "plt.show()"
   ]
  },
  {
   "cell_type": "markdown",
   "id": "a6a88cb2-fd3c-4c9a-a54a-e13719e1f673",
   "metadata": {},
   "source": [
    "According to the dataset, purchases were more likely to occur on a weekday."
   ]
  },
  {
   "cell_type": "markdown",
   "id": "24d0a4c7-4b1c-42ab-afe4-f2e5585bb924",
   "metadata": {},
   "source": [
    "#### Data Pre-Processing"
   ]
  },
  {
   "cell_type": "code",
   "execution_count": 30,
   "id": "4ed56ccd-ac9f-4b10-bd95-ebbbdf594e87",
   "metadata": {
    "tags": []
   },
   "outputs": [],
   "source": [
    "dummiesdf = pd.get_dummies(dataSet['VisitorType'])\n",
    "dataSet.drop('VisitorType', inplace = True, axis = 1)\n",
    "dataSet['New_Visitor'] = dummiesdf['New_Visitor']\n",
    "dataSet['Other'] = dummiesdf['Other']\n",
    "dataSet['Returning_Visitor'] = dummiesdf['Returning_Visitor']"
   ]
  },
  {
   "cell_type": "code",
   "execution_count": 31,
   "id": "f36b774f-08b2-46e0-9f95-2f414c73cf03",
   "metadata": {
    "tags": []
   },
   "outputs": [],
   "source": [
    "dfmonth = pd.get_dummies(dataSet['Month']) \n",
    "dataSet.drop('Month', inplace = True, axis = 1)"
   ]
  },
  {
   "cell_type": "code",
   "execution_count": 32,
   "id": "bcf5a1f0-6d14-4900-aa68-c526ad8f0af9",
   "metadata": {
    "tags": []
   },
   "outputs": [],
   "source": [
    "dfOperatingSystems = pd.get_dummies(dataSet['OperatingSystems']) \n",
    "dataSet.drop('OperatingSystems', inplace = True, axis = 1)\n",
    "dfOperatingSystems = dfOperatingSystems.set_axis(['Os1','Os2','Os3','Os4','Os5','Os6','Os7','Os8'], axis=1)"
   ]
  },
  {
   "cell_type": "code",
   "execution_count": 33,
   "id": "2547c94d-4d69-4ea7-b4cd-d23b43084f79",
   "metadata": {
    "tags": []
   },
   "outputs": [],
   "source": [
    "dfBrowser = pd.get_dummies(dataSet['Browser']) \n",
    "dataSet.drop('Browser', inplace = True, axis = 1)\n",
    "dfBrowser = dfBrowser.set_axis(['Browser1','Browser2','Browser3','Browser4','Browser5','Browser6','Browser7','Browser8','Browser9','Browser10','Browser11','Browser12','Browser13'], axis=1)"
   ]
  },
  {
   "cell_type": "code",
   "execution_count": 34,
   "id": "0de4cc46-de6d-44b2-a67e-e32bd599afdc",
   "metadata": {
    "tags": []
   },
   "outputs": [],
   "source": [
    "dfRegion = pd.get_dummies(dataSet['Region']) \n",
    "dataSet.drop('Region', inplace = True, axis = 1)\n",
    "dfRegion = dfRegion.set_axis(['Region1','Region2','Region3','Region4','Region5','Region6','Region7','Region8','Region9'], axis=1)"
   ]
  },
  {
   "cell_type": "code",
   "execution_count": 35,
   "id": "69962eba-892d-4511-82c8-790374e96014",
   "metadata": {
    "tags": []
   },
   "outputs": [],
   "source": [
    "dfwithdummies = pd.concat([dataSet,dfmonth,dfOperatingSystems,dfBrowser,dfRegion], axis = 1, sort = False)"
   ]
  },
  {
   "cell_type": "code",
   "execution_count": 36,
   "id": "b1b188d8-eed4-462b-9019-82027bbb84c7",
   "metadata": {
    "tags": []
   },
   "outputs": [],
   "source": [
    "dfwithdummies['Class'] = dataSet['Revenue'].astype(int)\n",
    "dfwithdummies['Weekend'] = dataSet['Weekend'].astype(int)\n",
    "dfwithdummies.drop('Revenue', axis = 1, inplace = True)\n",
    "dfcleaned = dfwithdummies.copy()"
   ]
  },
  {
   "cell_type": "code",
   "execution_count": 37,
   "id": "9a8d4c29-3737-4e2c-9072-f83047426a5b",
   "metadata": {
    "tags": []
   },
   "outputs": [],
   "source": [
    "dfcleaned.to_csv('dfCleaned.csv', index=False)"
   ]
  },
  {
   "cell_type": "markdown",
   "id": "8b086330-bad0-4971-9c35-2a4c1a78e9b6",
   "metadata": {
    "tags": []
   },
   "source": [
    "#### Split Data into Testing and Traininig Sets"
   ]
  },
  {
   "cell_type": "code",
   "execution_count": 38,
   "id": "844dc427-4d6e-4eec-a311-28e8c70a167a",
   "metadata": {},
   "outputs": [],
   "source": [
    "y = dfcleaned.Class"
   ]
  },
  {
   "cell_type": "code",
   "execution_count": 39,
   "id": "0833afd8-11bd-47f0-85af-2fea798acef3",
   "metadata": {},
   "outputs": [],
   "source": [
    "x = dfcleaned.drop('Class', axis=1)"
   ]
  },
  {
   "cell_type": "code",
   "execution_count": 40,
   "id": "20efe1a6-264f-4b40-950d-cbd6c7a5af92",
   "metadata": {
    "tags": []
   },
   "outputs": [],
   "source": [
    "x_train,x_test,y_train,y_test=train_test_split(x,y,test_size=0.2, random_state = 0)"
   ]
  },
  {
   "cell_type": "code",
   "execution_count": 41,
   "id": "602a7082-0e93-40ff-9e86-7bd7d9b1093c",
   "metadata": {},
   "outputs": [
    {
     "name": "stdout",
     "output_type": "stream",
     "text": [
      "shape of original dataset : (12330, 16)\n",
      "shape of input - training set (9864, 55)\n",
      "shape of output - training set (9864,)\n",
      "shape of input - testing set (2466, 55)\n",
      "shape of output - testing set (2466,)\n"
     ]
    }
   ],
   "source": [
    "print(\"shape of original dataset :\", dataSet.shape)\n",
    "print(\"shape of input - training set\", x_train.shape)\n",
    "print(\"shape of output - training set\", y_train.shape)\n",
    "print(\"shape of input - testing set\", x_test.shape)\n",
    "print(\"shape of output - testing set\", y_test.shape)"
   ]
  },
  {
   "cell_type": "markdown",
   "id": "d9e766de-fa14-4fd5-9a19-01a8d7d61efa",
   "metadata": {},
   "source": [
    "#### Linear Model with All Features"
   ]
  },
  {
   "cell_type": "code",
   "execution_count": 48,
   "id": "2d93ef64-2ea8-4317-ace2-f9c829fb3018",
   "metadata": {},
   "outputs": [
    {
     "data": {
      "text/plain": [
       "SGDClassifier()"
      ]
     },
     "execution_count": 48,
     "metadata": {},
     "output_type": "execute_result"
    }
   ],
   "source": [
    "from sklearn import linear_model\n",
    "from sklearn.metrics import accuracy_score, roc_auc_score, precision_score, recall_score, f1_score\n",
    "\n",
    "model = linear_model.SGDClassifier()\n",
    "model.fit(x_train, y_train)\n"
   ]
  },
  {
   "cell_type": "code",
   "execution_count": 49,
   "id": "510239d7-968b-4368-98ff-41fb5dba7089",
   "metadata": {},
   "outputs": [],
   "source": [
    "y_pred = model.predict(x_test)"
   ]
  },
  {
   "cell_type": "code",
   "execution_count": 50,
   "id": "a34cf7a4-38a1-44fd-b954-dec28b97e5c4",
   "metadata": {},
   "outputs": [
    {
     "data": {
      "text/plain": [
       "0.8730738037307381"
      ]
     },
     "execution_count": 50,
     "metadata": {},
     "output_type": "execute_result"
    }
   ],
   "source": [
    "from sklearn.metrics import accuracy_score\n",
    "accuracy_score(y_test, y_pred)"
   ]
  },
  {
   "cell_type": "code",
   "execution_count": 51,
   "id": "eef74dcb-0826-4a25-bb17-e598417d120c",
   "metadata": {},
   "outputs": [
    {
     "data": {
      "text/plain": [
       "0.672396842915573"
      ]
     },
     "execution_count": 51,
     "metadata": {},
     "output_type": "execute_result"
    }
   ],
   "source": [
    "roc_auc_score(y_test, y_pred)"
   ]
  },
  {
   "cell_type": "code",
   "execution_count": 53,
   "id": "9298b3a9-5166-411a-b2f3-ec62cd60093a",
   "metadata": {},
   "outputs": [
    {
     "name": "stdout",
     "output_type": "stream",
     "text": [
      "Accuracy: 0.873\n",
      "Precision: 0.771\n",
      "Recall: 0.367\n",
      "f1_score: 0.498\n"
     ]
    }
   ],
   "source": [
    "print('Accuracy: {:.3f}'.format(accuracy_score(y_test, y_pred)))\n",
    "print('Precision: {:.3f}'.format(precision_score(y_test, y_pred)))\n",
    "print('Recall: {:.3f}'.format(recall_score(y_test, y_pred)))\n",
    "print('f1_score: {:.3f}'.format(f1_score(y_test, y_pred)))"
   ]
  },
  {
   "cell_type": "markdown",
   "id": "2c059c3d-8091-49d5-89e2-c4d5fc8c0ff2",
   "metadata": {
    "tags": []
   },
   "source": [
    "#### Random Forest with All Features"
   ]
  },
  {
   "cell_type": "code",
   "execution_count": 58,
   "id": "38043b3e-1c21-4a64-89d9-c964b6947a67",
   "metadata": {
    "tags": []
   },
   "outputs": [],
   "source": [
    "from sklearn.ensemble import RandomForestClassifier\n",
    "clf = RandomForestClassifier(max_depth=6, random_state=0)\n",
    "clf.fit(x_train, y_train)\n",
    "y_pred1 = clf.predict(x_test)"
   ]
  },
  {
   "cell_type": "code",
   "execution_count": 59,
   "id": "323133c3-1f52-4d2d-8748-ed299e098b80",
   "metadata": {},
   "outputs": [
    {
     "data": {
      "text/plain": [
       "0.8665855636658556"
      ]
     },
     "execution_count": 59,
     "metadata": {},
     "output_type": "execute_result"
    }
   ],
   "source": [
    "accuracy_score(y_test, y_pred1)"
   ]
  },
  {
   "cell_type": "code",
   "execution_count": 60,
   "id": "fbed3847-b404-43ba-93c7-cd7497d8f7ef",
   "metadata": {},
   "outputs": [
    {
     "data": {
      "text/plain": [
       "0.6186515150109905"
      ]
     },
     "execution_count": 60,
     "metadata": {},
     "output_type": "execute_result"
    }
   ],
   "source": [
    "roc_auc_score(y_test, y_pred1)"
   ]
  },
  {
   "cell_type": "code",
   "execution_count": 98,
   "id": "e2175329-d355-41f4-ac42-5dd1a4e27d3e",
   "metadata": {},
   "outputs": [
    {
     "name": "stdout",
     "output_type": "stream",
     "text": [
      "Accuracy: 0.867\n",
      "Precision: 0.919\n",
      "Recall: 0.242\n",
      "f1_score: 0.383\n"
     ]
    }
   ],
   "source": [
    "print('Accuracy: {:.3f}'.format(accuracy_score(y_test, y_pred1)))\n",
    "print('Precision: {:.3f}'.format(precision_score(y_test, y_pred1)))\n",
    "print('Recall: {:.3f}'.format(recall_score(y_test, y_pred1)))\n",
    "print('f1_score: {:.3f}'.format(f1_score(y_test, y_pred1)))"
   ]
  },
  {
   "cell_type": "markdown",
   "id": "458db144-e10e-4f68-9375-042693989b16",
   "metadata": {},
   "source": [
    "#### Finding Important Features"
   ]
  },
  {
   "cell_type": "code",
   "execution_count": 62,
   "id": "74c2a771-9fd2-4135-b3cb-57986529deac",
   "metadata": {},
   "outputs": [
    {
     "name": "stdout",
     "output_type": "stream",
     "text": [
      "                    Feature          Score\n",
      "5   ProductRelated_Duration  668077.994737\n",
      "8                PageValues  142864.952465\n",
      "1   Administrative_Duration   36582.385018\n",
      "3    Informational_Duration   26542.909331\n",
      "4            ProductRelated   14849.150604\n",
      "0            Administrative     932.018678\n",
      "2             Informational     264.732865\n",
      "22                      Nov     161.618163\n",
      "12              New_Visitor     100.004421\n",
      "9                SpecialDay      47.634419\n",
      "21                      May      39.871368\n",
      "27                      Os3      36.760941\n",
      "20                      Mar      36.135710\n",
      "6               BounceRates      22.656867\n",
      "7                 ExitRates      22.448320\n"
     ]
    }
   ],
   "source": [
    "from sklearn.feature_selection import SelectKBest, chi2\n",
    "bestfeatures = SelectKBest(score_func=chi2, k=10)\n",
    "fit = bestfeatures.fit(x_train,y_train)\n",
    "dfscores = pd.DataFrame(fit.scores_)\n",
    "dfcolumns = pd.DataFrame(x_train.columns)\n",
    "featureScores = pd.concat([dfcolumns,dfscores], axis=1)\n",
    "featureScores.columns = ['Feature','Score']\n",
    "print(featureScores.nlargest(15,'Score'))"
   ]
  },
  {
   "cell_type": "code",
   "execution_count": 63,
   "id": "7e2b1ab2-9f0a-418d-afd7-d8462bd00a26",
   "metadata": {
    "tags": []
   },
   "outputs": [
    {
     "data": {
      "text/html": [
       "<div>\n",
       "<style scoped>\n",
       "    .dataframe tbody tr th:only-of-type {\n",
       "        vertical-align: middle;\n",
       "    }\n",
       "\n",
       "    .dataframe tbody tr th {\n",
       "        vertical-align: top;\n",
       "    }\n",
       "\n",
       "    .dataframe thead th {\n",
       "        text-align: right;\n",
       "    }\n",
       "</style>\n",
       "<table border=\"1\" class=\"dataframe\">\n",
       "  <thead>\n",
       "    <tr style=\"text-align: right;\">\n",
       "      <th></th>\n",
       "      <th>0</th>\n",
       "      <th>1</th>\n",
       "    </tr>\n",
       "  </thead>\n",
       "  <tbody>\n",
       "    <tr>\n",
       "      <th>5</th>\n",
       "      <td>668077.994737</td>\n",
       "      <td>ProductRelated_Duration</td>\n",
       "    </tr>\n",
       "    <tr>\n",
       "      <th>8</th>\n",
       "      <td>142864.952465</td>\n",
       "      <td>PageValues</td>\n",
       "    </tr>\n",
       "    <tr>\n",
       "      <th>1</th>\n",
       "      <td>36582.385018</td>\n",
       "      <td>Administrative_Duration</td>\n",
       "    </tr>\n",
       "    <tr>\n",
       "      <th>3</th>\n",
       "      <td>26542.909331</td>\n",
       "      <td>Informational_Duration</td>\n",
       "    </tr>\n",
       "    <tr>\n",
       "      <th>4</th>\n",
       "      <td>14849.150604</td>\n",
       "      <td>ProductRelated</td>\n",
       "    </tr>\n",
       "    <tr>\n",
       "      <th>0</th>\n",
       "      <td>932.018678</td>\n",
       "      <td>Administrative</td>\n",
       "    </tr>\n",
       "    <tr>\n",
       "      <th>2</th>\n",
       "      <td>264.732865</td>\n",
       "      <td>Informational</td>\n",
       "    </tr>\n",
       "    <tr>\n",
       "      <th>22</th>\n",
       "      <td>161.618163</td>\n",
       "      <td>Nov</td>\n",
       "    </tr>\n",
       "    <tr>\n",
       "      <th>12</th>\n",
       "      <td>100.004421</td>\n",
       "      <td>New_Visitor</td>\n",
       "    </tr>\n",
       "    <tr>\n",
       "      <th>9</th>\n",
       "      <td>47.634419</td>\n",
       "      <td>SpecialDay</td>\n",
       "    </tr>\n",
       "    <tr>\n",
       "      <th>21</th>\n",
       "      <td>39.871368</td>\n",
       "      <td>May</td>\n",
       "    </tr>\n",
       "    <tr>\n",
       "      <th>27</th>\n",
       "      <td>36.760941</td>\n",
       "      <td>Os3</td>\n",
       "    </tr>\n",
       "    <tr>\n",
       "      <th>20</th>\n",
       "      <td>36.135710</td>\n",
       "      <td>Mar</td>\n",
       "    </tr>\n",
       "    <tr>\n",
       "      <th>6</th>\n",
       "      <td>22.656867</td>\n",
       "      <td>BounceRates</td>\n",
       "    </tr>\n",
       "    <tr>\n",
       "      <th>7</th>\n",
       "      <td>22.448320</td>\n",
       "      <td>ExitRates</td>\n",
       "    </tr>\n",
       "    <tr>\n",
       "      <th>17</th>\n",
       "      <td>20.358667</td>\n",
       "      <td>Feb</td>\n",
       "    </tr>\n",
       "    <tr>\n",
       "      <th>26</th>\n",
       "      <td>17.271843</td>\n",
       "      <td>Os2</td>\n",
       "    </tr>\n",
       "    <tr>\n",
       "      <th>14</th>\n",
       "      <td>16.076222</td>\n",
       "      <td>Returning_Visitor</td>\n",
       "    </tr>\n",
       "    <tr>\n",
       "      <th>23</th>\n",
       "      <td>15.683091</td>\n",
       "      <td>Oct</td>\n",
       "    </tr>\n",
       "    <tr>\n",
       "      <th>16</th>\n",
       "      <td>9.637668</td>\n",
       "      <td>Dec</td>\n",
       "    </tr>\n",
       "    <tr>\n",
       "      <th>35</th>\n",
       "      <td>6.968700</td>\n",
       "      <td>Browser3</td>\n",
       "    </tr>\n",
       "    <tr>\n",
       "      <th>19</th>\n",
       "      <td>5.115590</td>\n",
       "      <td>June</td>\n",
       "    </tr>\n",
       "    <tr>\n",
       "      <th>11</th>\n",
       "      <td>5.003865</td>\n",
       "      <td>Weekend</td>\n",
       "    </tr>\n",
       "    <tr>\n",
       "      <th>36</th>\n",
       "      <td>4.431376</td>\n",
       "      <td>Browser4</td>\n",
       "    </tr>\n",
       "    <tr>\n",
       "      <th>42</th>\n",
       "      <td>4.344007</td>\n",
       "      <td>Browser10</td>\n",
       "    </tr>\n",
       "    <tr>\n",
       "      <th>15</th>\n",
       "      <td>3.096226</td>\n",
       "      <td>Aug</td>\n",
       "    </tr>\n",
       "    <tr>\n",
       "      <th>51</th>\n",
       "      <td>3.047996</td>\n",
       "      <td>Region6</td>\n",
       "    </tr>\n",
       "    <tr>\n",
       "      <th>10</th>\n",
       "      <td>2.740032</td>\n",
       "      <td>TrafficType</td>\n",
       "    </tr>\n",
       "    <tr>\n",
       "      <th>28</th>\n",
       "      <td>2.311611</td>\n",
       "      <td>Os4</td>\n",
       "    </tr>\n",
       "    <tr>\n",
       "      <th>24</th>\n",
       "      <td>1.913249</td>\n",
       "      <td>Sep</td>\n",
       "    </tr>\n",
       "    <tr>\n",
       "      <th>37</th>\n",
       "      <td>1.827868</td>\n",
       "      <td>Browser5</td>\n",
       "    </tr>\n",
       "    <tr>\n",
       "      <th>25</th>\n",
       "      <td>1.777470</td>\n",
       "      <td>Os1</td>\n",
       "    </tr>\n",
       "    <tr>\n",
       "      <th>47</th>\n",
       "      <td>1.574201</td>\n",
       "      <td>Region2</td>\n",
       "    </tr>\n",
       "    <tr>\n",
       "      <th>44</th>\n",
       "      <td>1.564954</td>\n",
       "      <td>Browser12</td>\n",
       "    </tr>\n",
       "    <tr>\n",
       "      <th>38</th>\n",
       "      <td>1.522777</td>\n",
       "      <td>Browser6</td>\n",
       "    </tr>\n",
       "    <tr>\n",
       "      <th>33</th>\n",
       "      <td>1.136356</td>\n",
       "      <td>Browser1</td>\n",
       "    </tr>\n",
       "    <tr>\n",
       "      <th>39</th>\n",
       "      <td>0.903069</td>\n",
       "      <td>Browser7</td>\n",
       "    </tr>\n",
       "    <tr>\n",
       "      <th>45</th>\n",
       "      <td>0.728106</td>\n",
       "      <td>Browser13</td>\n",
       "    </tr>\n",
       "    <tr>\n",
       "      <th>48</th>\n",
       "      <td>0.677065</td>\n",
       "      <td>Region3</td>\n",
       "    </tr>\n",
       "    <tr>\n",
       "      <th>53</th>\n",
       "      <td>0.593841</td>\n",
       "      <td>Region8</td>\n",
       "    </tr>\n",
       "    <tr>\n",
       "      <th>46</th>\n",
       "      <td>0.505169</td>\n",
       "      <td>Region1</td>\n",
       "    </tr>\n",
       "    <tr>\n",
       "      <th>32</th>\n",
       "      <td>0.282525</td>\n",
       "      <td>Os8</td>\n",
       "    </tr>\n",
       "    <tr>\n",
       "      <th>18</th>\n",
       "      <td>0.186767</td>\n",
       "      <td>Jul</td>\n",
       "    </tr>\n",
       "    <tr>\n",
       "      <th>41</th>\n",
       "      <td>0.177369</td>\n",
       "      <td>Browser9</td>\n",
       "    </tr>\n",
       "    <tr>\n",
       "      <th>52</th>\n",
       "      <td>0.170064</td>\n",
       "      <td>Region7</td>\n",
       "    </tr>\n",
       "    <tr>\n",
       "      <th>30</th>\n",
       "      <td>0.144701</td>\n",
       "      <td>Os6</td>\n",
       "    </tr>\n",
       "    <tr>\n",
       "      <th>50</th>\n",
       "      <td>0.139478</td>\n",
       "      <td>Region5</td>\n",
       "    </tr>\n",
       "    <tr>\n",
       "      <th>40</th>\n",
       "      <td>0.049819</td>\n",
       "      <td>Browser8</td>\n",
       "    </tr>\n",
       "    <tr>\n",
       "      <th>34</th>\n",
       "      <td>0.042395</td>\n",
       "      <td>Browser2</td>\n",
       "    </tr>\n",
       "    <tr>\n",
       "      <th>49</th>\n",
       "      <td>0.040526</td>\n",
       "      <td>Region4</td>\n",
       "    </tr>\n",
       "    <tr>\n",
       "      <th>54</th>\n",
       "      <td>0.029026</td>\n",
       "      <td>Region9</td>\n",
       "    </tr>\n",
       "    <tr>\n",
       "      <th>29</th>\n",
       "      <td>0.012031</td>\n",
       "      <td>Os5</td>\n",
       "    </tr>\n",
       "    <tr>\n",
       "      <th>43</th>\n",
       "      <td>0.012031</td>\n",
       "      <td>Browser11</td>\n",
       "    </tr>\n",
       "    <tr>\n",
       "      <th>31</th>\n",
       "      <td>0.012031</td>\n",
       "      <td>Os7</td>\n",
       "    </tr>\n",
       "    <tr>\n",
       "      <th>13</th>\n",
       "      <td>0.006849</td>\n",
       "      <td>Other</td>\n",
       "    </tr>\n",
       "  </tbody>\n",
       "</table>\n",
       "</div>"
      ],
      "text/plain": [
       "                0                        1\n",
       "5   668077.994737  ProductRelated_Duration\n",
       "8   142864.952465               PageValues\n",
       "1    36582.385018  Administrative_Duration\n",
       "3    26542.909331   Informational_Duration\n",
       "4    14849.150604           ProductRelated\n",
       "0      932.018678           Administrative\n",
       "2      264.732865            Informational\n",
       "22     161.618163                      Nov\n",
       "12     100.004421              New_Visitor\n",
       "9       47.634419               SpecialDay\n",
       "21      39.871368                      May\n",
       "27      36.760941                      Os3\n",
       "20      36.135710                      Mar\n",
       "6       22.656867              BounceRates\n",
       "7       22.448320                ExitRates\n",
       "17      20.358667                      Feb\n",
       "26      17.271843                      Os2\n",
       "14      16.076222        Returning_Visitor\n",
       "23      15.683091                      Oct\n",
       "16       9.637668                      Dec\n",
       "35       6.968700                 Browser3\n",
       "19       5.115590                     June\n",
       "11       5.003865                  Weekend\n",
       "36       4.431376                 Browser4\n",
       "42       4.344007                Browser10\n",
       "15       3.096226                      Aug\n",
       "51       3.047996                  Region6\n",
       "10       2.740032              TrafficType\n",
       "28       2.311611                      Os4\n",
       "24       1.913249                      Sep\n",
       "37       1.827868                 Browser5\n",
       "25       1.777470                      Os1\n",
       "47       1.574201                  Region2\n",
       "44       1.564954                Browser12\n",
       "38       1.522777                 Browser6\n",
       "33       1.136356                 Browser1\n",
       "39       0.903069                 Browser7\n",
       "45       0.728106                Browser13\n",
       "48       0.677065                  Region3\n",
       "53       0.593841                  Region8\n",
       "46       0.505169                  Region1\n",
       "32       0.282525                      Os8\n",
       "18       0.186767                      Jul\n",
       "41       0.177369                 Browser9\n",
       "52       0.170064                  Region7\n",
       "30       0.144701                      Os6\n",
       "50       0.139478                  Region5\n",
       "40       0.049819                 Browser8\n",
       "34       0.042395                 Browser2\n",
       "49       0.040526                  Region4\n",
       "54       0.029026                  Region9\n",
       "29       0.012031                      Os5\n",
       "43       0.012031                Browser11\n",
       "31       0.012031                      Os7\n",
       "13       0.006849                    Other"
      ]
     },
     "execution_count": 63,
     "metadata": {},
     "output_type": "execute_result"
    }
   ],
   "source": [
    "from sklearn import svm\n",
    "list_one =[]\n",
    "for i, (Score, Feature) in enumerate(zip(bestfeatures.scores_, x.columns)):\n",
    "    list_one.append((Score, Feature))\n",
    "    \n",
    "dfObj = pd.DataFrame(list_one) \n",
    "dfObj.sort_values(by=[0], ascending = False)"
   ]
  },
  {
   "cell_type": "code",
   "execution_count": 64,
   "id": "dddab560-65bd-4731-97bb-7026fdcf0700",
   "metadata": {
    "tags": []
   },
   "outputs": [
    {
     "data": {
      "image/png": "[encoded data removed]",
      "text/plain": [
       "<Figure size 432x288 with 1 Axes>"
      ]
     },
     "metadata": {
      "needs_background": "light"
     },
     "output_type": "display_data"
    }
   ],
   "source": [
    "from sklearn.ensemble import ExtraTreesClassifier\n",
    "\n",
    "model = ExtraTreesClassifier()\n",
    "model.fit(x_train,y_train)\n",
    "feat_importances = pd.Series(model.feature_importances_, index=x_train.columns)\n",
    "feat_importances.nlargest(20).plot(kind='barh')\n",
    "plt.show()"
   ]
  },
  {
   "cell_type": "code",
   "execution_count": 65,
   "id": "9f7941c9-f5ee-4069-ba9d-88698e519aed",
   "metadata": {},
   "outputs": [
    {
     "data": {
      "text/plain": [
       "<AxesSubplot:>"
      ]
     },
     "execution_count": 65,
     "metadata": {},
     "output_type": "execute_result"
    },
    {
     "data": {
      "image/png": "[encoded data removed]",
      "text/plain": [
       "<Figure size 720x576 with 2 Axes>"
      ]
     },
     "metadata": {
      "needs_background": "light"
     },
     "output_type": "display_data"
    }
   ],
   "source": [
    "dataset = pd.read_csv('online_shoppers_intention.csv')\n",
    "f, ax = plt.subplots(figsize=(10,8))\n",
    "corr = dataset.corr()\n",
    "sns.heatmap(corr,mask=np.zeros_like(corr, dtype= bool), cmap=sns.diverging_palette(220,10, as_cmap=True), square=True, ax=ax)"
   ]
  },
  {
   "cell_type": "code",
   "execution_count": 68,
   "id": "4aa78f2c-9968-4bea-a75c-599248beb789",
   "metadata": {
    "tags": []
   },
   "outputs": [],
   "source": [
    "rfc = x_train[['ProductRelated_Duration', 'PageValues', 'ExitRates', 'TrafficType', 'Administrative_Duration', 'Informational_Duration', 'Nov', 'New_Visitor', 'SpecialDay', 'Mar', 'May', 'Os3']].copy()\n",
    "x_train1, x_test1, y_train1, y_test1 = train_test_split(rfc,y_train,test_size=.2, random_state = 2)"
   ]
  },
  {
   "cell_type": "markdown",
   "id": "ff0c8ad3-21e4-4601-89d0-2eeac409ac6d",
   "metadata": {},
   "source": [
    "### Models with Feature Selection "
   ]
  },
  {
   "cell_type": "markdown",
   "id": "2788df59-500d-417a-963c-c907b5c5a064",
   "metadata": {
    "tags": []
   },
   "source": [
    "#### Random Forest Classifier"
   ]
  },
  {
   "cell_type": "code",
   "execution_count": 73,
   "id": "6bdb2c86-ff17-479a-b622-eb295f1edf5e",
   "metadata": {},
   "outputs": [],
   "source": [
    "clf1 = RandomForestClassifier(n_estimators= 100, max_depth = 6 )\n",
    "clf1.fit(x_train1, y_train1)\n",
    "y_pred2 = clf1.predict(x_test1)"
   ]
  },
  {
   "cell_type": "code",
   "execution_count": 96,
   "id": "40372c5b-fa85-48e2-a82c-56b49e31e4d5",
   "metadata": {},
   "outputs": [
    {
     "name": "stdout",
     "output_type": "stream",
     "text": [
      "Accuracy: 0.907\n",
      "ROC AUC: 0.763\n",
      "Precision: 0.764\n",
      "Recall: 0.556\n",
      "f1_score: 0.643\n"
     ]
    }
   ],
   "source": [
    "print('Accuracy: {:.3f}'.format(accuracy_score(y_test1, y_pred2)))\n",
    "print('ROC AUC: {:.3f}'.format(roc_auc_score(y_test1, y_pred2)))\n",
    "print('Precision: {:.3f}'.format(precision_score(y_test1, y_pred2)))\n",
    "print('Recall: {:.3f}'.format(recall_score(y_test1, y_pred2)))\n",
    "print('f1_score: {:.3f}'.format(f1_score(y_test1, y_pred2)))"
   ]
  },
  {
   "cell_type": "code",
   "execution_count": 99,
   "id": "58497afa-9a2d-4317-a28b-af8914e7f0c5",
   "metadata": {
    "tags": []
   },
   "outputs": [],
   "source": [
    "from sklearn.ensemble import AdaBoostClassifier, GradientBoostingClassifier"
   ]
  },
  {
   "cell_type": "markdown",
   "id": "c0450949-abbd-4caa-8833-c2bbc6c8b44f",
   "metadata": {
    "tags": []
   },
   "source": [
    "#### XGB Classifier"
   ]
  },
  {
   "cell_type": "code",
   "execution_count": 84,
   "id": "eac85a0a-621e-41fb-8618-577f4376f630",
   "metadata": {
    "tags": []
   },
   "outputs": [
    {
     "data": {
      "text/plain": [
       "GradientBoostingClassifier(max_depth=6, n_estimators=150)"
      ]
     },
     "execution_count": 84,
     "metadata": {},
     "output_type": "execute_result"
    }
   ],
   "source": [
    "model = GradientBoostingClassifier(n_estimators=150, max_depth=6)\n",
    "model.fit(x_train1, y_train1)"
   ]
  },
  {
   "cell_type": "code",
   "execution_count": 85,
   "id": "cde2f2cf-148b-48f7-abee-7d4aea0968c3",
   "metadata": {
    "tags": []
   },
   "outputs": [],
   "source": [
    "y_pred3 = model.predict(x_test1)"
   ]
  },
  {
   "cell_type": "code",
   "execution_count": 108,
   "id": "8aa5fb60-2351-4e7c-8216-5942e761dac1",
   "metadata": {},
   "outputs": [
    {
     "name": "stdout",
     "output_type": "stream",
     "text": [
      "Accuracy: 0.901\n",
      "ROC AUC: 0.767\n",
      "Precision: 0.710\n",
      "Recall: 0.576\n",
      "f1_score: 0.636\n"
     ]
    }
   ],
   "source": [
    "print('Accuracy: {:.3f}'.format(accuracy_score(y_test1, y_pred3)))\n",
    "print('ROC AUC: {:.3f}'.format(roc_auc_score(y_test1, y_pred3)))\n",
    "print('Precision: {:.3f}'.format(precision_score(y_test1, y_pred3)))\n",
    "print('Recall: {:.3f}'.format(recall_score(y_test1, y_pred3)))\n",
    "print('f1_score: {:.3f}'.format(f1_score(y_test1, y_pred3)))"
   ]
  },
  {
   "cell_type": "markdown",
   "id": "a6066e09-564c-4122-a531-3f5cc98139e4",
   "metadata": {
    "tags": []
   },
   "source": [
    "#### AdaBoost Classifier"
   ]
  },
  {
   "cell_type": "code",
   "execution_count": 101,
   "id": "76a1ef0b-cba2-4c35-bd72-39079adbe0d4",
   "metadata": {
    "tags": []
   },
   "outputs": [
    {
     "data": {
      "text/plain": [
       "AdaBoostClassifier()"
      ]
     },
     "execution_count": 101,
     "metadata": {},
     "output_type": "execute_result"
    }
   ],
   "source": [
    "model = AdaBoostClassifier()\n",
    "model.fit(x_train1, y_train1)"
   ]
  },
  {
   "cell_type": "code",
   "execution_count": 104,
   "id": "e28914c7-ae87-4432-8731-028663af37d1",
   "metadata": {
    "tags": []
   },
   "outputs": [],
   "source": [
    "y_pred4 = model.predict(x_test1)"
   ]
  },
  {
   "cell_type": "code",
   "execution_count": 109,
   "id": "af623824-9716-431e-9ccf-9fdd497092d8",
   "metadata": {},
   "outputs": [
    {
     "name": "stdout",
     "output_type": "stream",
     "text": [
      "Accuracy: 0.900\n",
      "ROC AUC: 0.765\n",
      "Precision: 0.708\n",
      "Recall: 0.572\n",
      "f1_score: 0.633\n"
     ]
    }
   ],
   "source": [
    "print('Accuracy: {:.3f}'.format(accuracy_score(y_test1, y_pred4)))\n",
    "print('ROC AUC: {:.3f}'.format(roc_auc_score(y_test1, y_pred4)))\n",
    "print('Precision: {:.3f}'.format(precision_score(y_test1, y_pred4)))\n",
    "print('Recall: {:.3f}'.format(recall_score(y_test1, y_pred4)))\n",
    "print('f1_score: {:.3f}'.format(f1_score(y_test1, y_pred4)))"
   ]
  },
  {
   "cell_type": "markdown",
   "id": "4d57b8d5-83a3-463f-9af9-51d7bd044f74",
   "metadata": {},
   "source": [
    "### Conclusion"
   ]
  },
  {
   "cell_type": "markdown",
   "id": "69b410aa-54aa-4a87-b128-fe77525892d7",
   "metadata": {},
   "source": [
    "After testing different classification algorithms we have achieved the best performance using a RandomForest Classifier with Feature Selection.\n",
    "\n",
    "#### Best Performance:\n",
    "\n",
    "##### RandomForest Classifier with Feature Selection - \n",
    "90.7% Accuracy , ROC AUC 0.76"
   ]
  },
  {
   "cell_type": "code",
   "execution_count": null,
   "id": "852267ce-a536-49dd-8d4b-adc47d608020",
   "metadata": {},
   "outputs": [],
   "source": []
  }
 ],
 "metadata": {
  "kernelspec": {
   "display_name": "Python 3",
   "language": "python",
   "name": "python3"
  },
  "language_info": {
   "codemirror_mode": {
    "name": "ipython",
    "version": 3
   },
   "file_extension": ".py",
   "mimetype": "text/x-python",
   "name": "python",
   "nbconvert_exporter": "python",
   "pygments_lexer": "ipython3",
   "version": "3.8.8"
  }
 },
 "nbformat": 4,
 "nbformat_minor": 5
}
