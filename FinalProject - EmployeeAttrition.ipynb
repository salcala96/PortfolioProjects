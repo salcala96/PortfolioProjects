{
 "cells": [
  {
   "cell_type": "markdown",
   "id": "ed355c90-dabe-4f81-9daa-a269f39730b9",
   "metadata": {},
   "source": [
    "# Predicting Employee Attrition"
   ]
  },
  {
   "cell_type": "markdown",
   "id": "644162aa-4ee8-4f90-8b22-95210d933fa7",
   "metadata": {},
   "source": [
    "---"
   ]
  },
  {
   "cell_type": "markdown",
   "id": "b50957ec-5301-47e6-9243-07ec4acf714a",
   "metadata": {},
   "source": [
    "##### By Sienna Alcala"
   ]
  },
  {
   "cell_type": "markdown",
   "id": "0260eb26-419a-455a-a093-301367779f3d",
   "metadata": {},
   "source": [
    "Dataset: https://www.kaggle.com/pavansubhasht/ibm-hr-analytics-attrition-dataset"
   ]
  },
  {
   "cell_type": "markdown",
   "id": "b4274e10-ace7-4889-a15e-cf7dac71f3ae",
   "metadata": {},
   "source": [
    "### Problem"
   ]
  },
  {
   "cell_type": "markdown",
   "id": "ce60053a-c744-4001-9946-c8dd701bd5a5",
   "metadata": {},
   "source": [
    "Employees are a companies greatest resource. The Coronavirus Pandemic has forced numerous changes in the workplace and companies are losing employees because of it. "
   ]
  },
  {
   "cell_type": "markdown",
   "id": "17fc93c8-35d0-4d3a-9b2f-1da097ec42a4",
   "metadata": {},
   "source": [
    "### Solution"
   ]
  },
  {
   "cell_type": "markdown",
   "id": "ef0023f1-f48b-4bce-a6c5-6c25be9b9a78",
   "metadata": {},
   "source": [
    "Use classification algorithms to predict whether or not an employee is likely to churn. Use these predictions to intervene with potential"
   ]
  },
  {
   "cell_type": "markdown",
   "id": "b3bb15a8-89b9-465c-96c9-1d7a889fa068",
   "metadata": {},
   "source": [
    "## Project"
   ]
  },
  {
   "cell_type": "markdown",
   "id": "d07a6c96-a0f3-471e-a1f4-44c9ed43c59a",
   "metadata": {},
   "source": [
    "### Libraries"
   ]
  },
  {
   "cell_type": "markdown",
   "id": "bb774604-104d-4340-86a7-23c329a50f00",
   "metadata": {},
   "source": [
    "Import necessary libraries to begin analysis"
   ]
  },
  {
   "cell_type": "code",
   "execution_count": null,
   "id": "a97ec494-23b6-41cf-8c5a-d6d0635ed88d",
   "metadata": {},
   "outputs": [],
   "source": [
    "import pandas as pd\n",
    "import numpy as np\n",
    "import seaborn as sns\n",
    "sns.set()\n",
    "import matplotlib.pyplot as plt\n",
    "%matplotlib inline\n",
    "\n",
    "import warnings\n",
    "warnings.filterwarnings('ignore')"
   ]
  },
  {
   "cell_type": "markdown",
   "id": "64882cad-8dc3-40b4-9193-da0fcf79e936",
   "metadata": {},
   "source": [
    "### Load Dataset"
   ]
  },
  {
   "cell_type": "code",
   "execution_count": null,
   "id": "fecceaaf-d232-41b4-beb0-228179de3d65",
   "metadata": {},
   "outputs": [],
   "source": [
    "df = pd.read_csv(\"EmployeeAttrition.csv\")"
   ]
  },
  {
   "cell_type": "markdown",
   "id": "904fc9ea-9582-4d85-835a-f4d149334545",
   "metadata": {},
   "source": [
    "## Exploratory Data Analysis"
   ]
  },
  {
   "cell_type": "code",
   "execution_count": null,
   "id": "79132d5c-5674-469a-af49-a1db2750fc26",
   "metadata": {},
   "outputs": [],
   "source": [
    "df.head()"
   ]
  },
  {
   "cell_type": "markdown",
   "id": "0d13766e-64fc-4f00-986b-88b8158a9765",
   "metadata": {},
   "source": [
    "#### Target Class Distribution"
   ]
  },
  {
   "cell_type": "code",
   "execution_count": null,
   "id": "b0a6c921-f0e5-49bb-9450-bb8a6b84b332",
   "metadata": {},
   "outputs": [],
   "source": [
    "attrition = df[(df['Attrition'] == 'Yes')].copy()\n",
    "no_attrition = df[(df['Attrition'] == 'No')].copy()\n",
    "attr = attrition.value_counts().sum() /  df.value_counts().sum()\n",
    "no_attr = no_attrition.value_counts().sum() /  df.value_counts().sum()\n",
    "print('Data shows a class imbalance with only', '{:.2%}'.format(attr), 'of values belonging to the target class')"
   ]
  },
  {
   "cell_type": "code",
   "execution_count": null,
   "id": "a8933595-dbb9-495e-a0c5-395f479aca8a",
   "metadata": {},
   "outputs": [],
   "source": [
    "import plotly.express as px\n",
    "import plotly.graph_objects as go\n",
    "fig = px.treemap(df, path=[px.Constant(\"Total Distribution\"), 'Attrition', 'Gender'])\n",
    "fig.update_traces(marker_colorscale = 'Blues',textinfo = \"label+percent parent+percent root\", pathbar_textfont_size=15)\n",
    "fig.update_layout(margin = dict(t=50, l=25, r=25, b=25), uniformtext=dict(minsize=15, mode='show'))\n",
    "fig.show()"
   ]
  },
  {
   "cell_type": "markdown",
   "id": "96c6cc14-8d2a-453c-a77d-2fb6ef70cec4",
   "metadata": {},
   "source": [
    "This treemap shows that overall, 6% of Females and 10% of Males churned."
   ]
  },
  {
   "cell_type": "markdown",
   "id": "3dc750a4-9d7e-4476-a81d-dcb99a2d502c",
   "metadata": {},
   "source": [
    "## Data Cleaning & Pre-Processing"
   ]
  },
  {
   "cell_type": "markdown",
   "id": "ac85743d-8337-41c6-b19b-44aea7c272b2",
   "metadata": {},
   "source": [
    "#### Zero Variance Check"
   ]
  },
  {
   "cell_type": "code",
   "execution_count": null,
   "id": "f5ff53f9-eedc-4e7a-b8c3-df91b5ce4188",
   "metadata": {
    "tags": []
   },
   "outputs": [],
   "source": [
    "df.nunique().nsmallest(10)"
   ]
  },
  {
   "cell_type": "code",
   "execution_count": null,
   "id": "84f96006-48da-42c8-9c61-d00395b42fda",
   "metadata": {},
   "outputs": [],
   "source": [
    "df.nunique().nlargest(10)"
   ]
  },
  {
   "cell_type": "markdown",
   "id": "ea2ae276-019e-41ec-8bd6-f8d5bb11e5ed",
   "metadata": {},
   "source": [
    "Remove values that do not offer any value to the analysis"
   ]
  },
  {
   "cell_type": "code",
   "execution_count": null,
   "id": "06369552-2328-46bd-a38e-130af82e4c68",
   "metadata": {},
   "outputs": [],
   "source": [
    "df.drop(['StandardHours', 'EmployeeCount', 'Over18', 'EmployeeNumber'], axis=1, inplace=True)"
   ]
  },
  {
   "cell_type": "markdown",
   "id": "27ed6c5a-ca15-4c66-99d1-723e7cefe4e3",
   "metadata": {},
   "source": [
    "#### Check for Missing Values"
   ]
  },
  {
   "cell_type": "code",
   "execution_count": null,
   "id": "ad54fbf1-d4c3-434a-810f-b96050033ca7",
   "metadata": {
    "tags": []
   },
   "outputs": [],
   "source": [
    "df.isnull().sum().nlargest(5)"
   ]
  },
  {
   "cell_type": "markdown",
   "id": "084e2a74-9cf7-49c7-a2a7-eff7406a695f",
   "metadata": {},
   "source": [
    "## Analyze Features"
   ]
  },
  {
   "cell_type": "markdown",
   "id": "12bb28da-d44a-43ea-8ea8-3df1a55338ea",
   "metadata": {},
   "source": [
    "### Heatmaps"
   ]
  },
  {
   "cell_type": "code",
   "execution_count": null,
   "id": "dd049e6d-5b13-4910-a759-a1dca3ff9484",
   "metadata": {
    "tags": []
   },
   "outputs": [],
   "source": [
    "corrmat = df.corr()"
   ]
  },
  {
   "cell_type": "code",
   "execution_count": null,
   "id": "89224899-d1e4-4777-b04e-a861d995e158",
   "metadata": {
    "tags": []
   },
   "outputs": [],
   "source": [
    "h1 = corrmat.loc['Age':'NumCompaniesWorked', 'Age':'NumCompaniesWorked']\n",
    "h2 = corrmat.loc['PercentSalaryHike':, 'Age':'NumCompaniesWorked']\n",
    "h3 = corrmat.loc['PercentSalaryHike':, 'PercentSalaryHike':]\n",
    "fig = plt.figure(figsize=(25,25))\n",
    "ax1 = fig.add_subplot(1,3,1)\n",
    "ax2 = fig.add_subplot(1,3,2)\n",
    "ax3 = fig.add_subplot(1,3,3)\n",
    "fig.tight_layout(h_pad=0, w_pad=12)\n",
    "sns.heatmap(h1, ax=ax1, vmin=-1, vmax=1, center=0, cmap=sns.diverging_palette(220, 300, n=256),square=True, cbar_kws = dict(use_gridspec=False,location=\"top\"), annot=True, annot_kws={'fontsize': 12})\n",
    "sns.heatmap(h2,ax =ax2, vmin=-1, vmax=1, center=0, cmap=sns.diverging_palette(220, 300, n=256),square=True, cbar_kws = dict(use_gridspec=False,location=\"top\"), annot=True, annot_kws={'fontsize': 12})\n",
    "sns.heatmap(h3,ax=ax3, vmin=-1, vmax=1, center=0, cmap=sns.diverging_palette(220, 300, n=256),square=True, cbar_kws = dict(use_gridspec=False,location=\"top\"), annot=True, annot_kws={'fontsize': 12})"
   ]
  },
  {
   "cell_type": "markdown",
   "id": "8ecbb609-9f2d-4c22-af7b-bbeec183e76e",
   "metadata": {},
   "source": [
    "##### High Correlations:\n",
    "-  JobLevel and MonthlyIncome  \n",
    "-  TotalWorkingYears and JobLevel\n",
    "-  TotalWorkingYears and MonthlyIncome\n",
    "-  PercentSalaryHike and PerformanceRating\n",
    "-  YearsInCurrentRole and YearsAtCompany\n",
    "-  YearsWithCurrManager and YearsAtCompany"
   ]
  },
  {
   "cell_type": "markdown",
   "id": "f0b11633-4aae-4019-927e-4c89aa0ffdbe",
   "metadata": {},
   "source": [
    "### Remove Feature Multicollinierity"
   ]
  },
  {
   "cell_type": "code",
   "execution_count": null,
   "id": "3dd158c9-995b-40c4-bfb5-a85da0250814",
   "metadata": {},
   "outputs": [],
   "source": [
    "threshold = 0.75\n",
    "abs_corr_matrix = corrmat.abs()\n",
    "upper = abs_corr_matrix.where(np.triu(np.ones(abs_corr_matrix.shape), k=1).astype(bool))\n",
    "to_drop = [column for column in upper.columns if any(upper[column] > threshold)]\n",
    "print('There are %d columns to consider removing :' % (len(to_drop)), to_drop)"
   ]
  },
  {
   "cell_type": "code",
   "execution_count": null,
   "id": "133c2966-ec70-4cee-8fee-0b9a5ac9d1e2",
   "metadata": {},
   "outputs": [],
   "source": [
    "df_final = df.drop(['JobLevel','TotalWorkingYears','YearsInCurrentRole', 'YearsWithCurrManager' , 'PerformanceRating'], axis=1).copy()\n",
    "df_final.columns[:]"
   ]
  },
  {
   "cell_type": "markdown",
   "id": "30c080fe-8840-4308-b1a6-59edc44557ea",
   "metadata": {},
   "source": [
    "## Encode Categorical Variables"
   ]
  },
  {
   "cell_type": "code",
   "execution_count": null,
   "id": "cdea4fb4-47c5-4221-b347-6463c5f5ccfd",
   "metadata": {},
   "outputs": [],
   "source": [
    "categorical = []\n",
    "for col, value in df_final.iteritems():\n",
    "    if value.dtype == 'object':\n",
    "        categorical.append(col)\n",
    "\n",
    "numerical = df_final.columns.difference(categorical)"
   ]
  },
  {
   "cell_type": "code",
   "execution_count": null,
   "id": "2adaf070-001b-4e09-a7ef-66d9b1ec4bf3",
   "metadata": {},
   "outputs": [],
   "source": [
    "catvars = df_final[categorical].copy()\n",
    "catvars = catvars.drop(['Attrition'], axis=1)\n",
    "catvars = pd.get_dummies(catvars)\n",
    "\n",
    "numvars = df_final[numerical].copy()\n",
    "encoded_df = pd.concat([numvars, catvars], axis=1)\n",
    "encoded_df.head(3)"
   ]
  },
  {
   "cell_type": "markdown",
   "id": "3d51bdd0-412b-4b77-8503-e20000e411f0",
   "metadata": {
    "tags": []
   },
   "source": [
    "## Map Target Variable"
   ]
  },
  {
   "cell_type": "code",
   "execution_count": null,
   "id": "2d817fa9-07f3-4edc-8d92-da255425c012",
   "metadata": {
    "tags": []
   },
   "outputs": [],
   "source": [
    "target_map = {'Yes':1, 'No':0}\n",
    "target = df_final['Attrition'].apply(lambda x: target_map[x]).copy()\n",
    "features = list(encoded_df.columns)[:]\n"
   ]
  },
  {
   "cell_type": "markdown",
   "id": "42b3e94b-a92e-4d6c-aab0-6445b2436fb2",
   "metadata": {},
   "source": [
    "## Feature Importances"
   ]
  },
  {
   "cell_type": "code",
   "execution_count": null,
   "id": "bc0d953e-ca60-4f3e-ad3d-b7e19f5f6d4c",
   "metadata": {},
   "outputs": [],
   "source": [
    "from sklearn.ensemble import RandomForestRegressor\n",
    "from sklearn.model_selection import train_test_split"
   ]
  },
  {
   "cell_type": "code",
   "execution_count": null,
   "id": "88ebef42-87d9-4ccc-82df-c498990fd32d",
   "metadata": {
    "tags": []
   },
   "outputs": [],
   "source": [
    "seed = 4373\n",
    "X = encoded_df[features]\n",
    "y = target\n",
    "X_train, X_test, y_train, y_test = train_test_split(X, y, test_size=0.3, random_state=seed)\n",
    "\n",
    "rf = RandomForestRegressor(n_estimators=100)\n",
    "rf.fit(X_train, y_train)\n",
    "\n",
    "importances = rf.feature_importances_\n",
    "indices = np.argsort(importances)\n",
    "num_features = 5 \n",
    "\n",
    "plt.figure(figsize=(8,8))\n",
    "plt.title('Feature Importances')\n",
    "\n",
    "plt.barh(range(num_features), importances[indices[-num_features:]], color='b', align='center')\n",
    "plt.yticks(range(num_features), [features[i] for i in indices[-num_features:]])\n",
    "plt.xlabel('Relative Importance')\n",
    "plt.show()\n"
   ]
  },
  {
   "cell_type": "markdown",
   "id": "3d87f593-1958-4d07-934a-2f15a0de3635",
   "metadata": {},
   "source": [
    "## Compare Algorithms"
   ]
  },
  {
   "cell_type": "code",
   "execution_count": null,
   "id": "f3fad756-74aa-4fdd-afa7-595700889848",
   "metadata": {},
   "outputs": [],
   "source": [
    "from imblearn.pipeline import Pipeline as imbpipeline\n",
    "from imblearn.over_sampling import SMOTE\n",
    "from sklearn.preprocessing import MinMaxScaler\n",
    "\n",
    "from sklearn.linear_model import LogisticRegression\n",
    "from sklearn.tree import DecisionTreeClassifier\n",
    "from sklearn.neighbors import KNeighborsClassifier\n",
    "from sklearn.discriminant_analysis import LinearDiscriminantAnalysis\n",
    "from sklearn.naive_bayes import GaussianNB\n",
    "from sklearn.ensemble import RandomForestClassifier, AdaBoostClassifier\n",
    "from xgboost import XGBClassifier\n",
    "from sklearn.neural_network import MLPClassifier\n",
    "\n",
    "from sklearn import model_selection\n",
    "from sklearn.model_selection import StratifiedKFold\n",
    "\n",
    "from sklearn.metrics import accuracy_score, roc_auc_score, roc_curve\n",
    "from simple_colors import *\n"
   ]
  },
  {
   "cell_type": "code",
   "execution_count": null,
   "id": "d6fac90d-f767-463f-bf37-253e215ad0e6",
   "metadata": {},
   "outputs": [],
   "source": [
    "# prepare configuration for cross validation test harness\n",
    "seed = 4373\n",
    "# prepare models\n",
    "models = []\n",
    "\n",
    "models.append(('LR', LogisticRegression(solver='lbfgs', max_iter=10000)))\n",
    "models.append(('DT', DecisionTreeClassifier(max_depth=6)))\n",
    "models.append(('RF', RandomForestClassifier(max_depth=6)))\n",
    "models.append(('Ada', AdaBoostClassifier()))\n",
    "models.append(('XGB', XGBClassifier(eval_metric='logloss')))\n",
    "models.append(('NB', GaussianNB()))\n",
    "models.append(('KMeans', KNeighborsClassifier()))\n",
    "models.append(('LDA', LinearDiscriminantAnalysis()))\n",
    "models.append(('MLP', MLPClassifier(hidden_layer_sizes=(10,10,10),max_iter=5000)))"
   ]
  },
  {
   "cell_type": "markdown",
   "id": "a6bba9ad-f923-442e-932f-e4a26daba95a",
   "metadata": {},
   "source": [
    "Due to the large class imbalance of the dataset, we will be utilizing synthetic data augmentation to create new minority class samples; specifically the Synthetic Minority Over-Sampling Technique (SMOTE). "
   ]
  },
  {
   "cell_type": "code",
   "execution_count": null,
   "id": "fd8833a9-6a19-4699-9de8-de2065564697",
   "metadata": {},
   "outputs": [],
   "source": [
    "# evaluate each model in turn\n",
    "results = []\n",
    "fittedmodels = []\n",
    "names = []\n",
    "scoring =('accuracy','roc_auc','recall','precision','f1')\n",
    "for name, model in models:\n",
    "    pipeline = imbpipeline(steps = [['smote', SMOTE(random_state=seed)],\n",
    "                                ['scaler', MinMaxScaler()],\n",
    "                                ['classifier', model]])\n",
    "    kfold = model_selection.StratifiedKFold(n_splits=10, random_state=seed, shuffle=True)\n",
    "    cv_results = model_selection.cross_validate(pipeline, X_train, y_train, cv=kfold, scoring=scoring, return_estimator=True)\n",
    "    results.append(cv_results['test_f1'])\n",
    "    names.append(name)\n",
    "    fittedmodels.append(cv_results['estimator'])\n",
    "    print(black(name, ['bold', 'underlined']))\n",
    "    print(\"Accuracy: {:.3f}\".format(cv_results['test_accuracy'].mean()))\n",
    "    print(\"Roc_Auc: {:.3f}\".format(cv_results['test_roc_auc'].mean()))\n",
    "    print(\"Recall: {:.3f}\".format(cv_results['test_recall'].mean()))\n",
    "    print(\"Precision: {:.3f}\".format(cv_results['test_precision'].mean()))\n",
    "    print(\"F1: {:.3f}\".format(cv_results['test_f1'].mean()))\n",
    "    print('='*50)"
   ]
  },
  {
   "cell_type": "markdown",
   "id": "1320d453-fbfc-4d98-882e-6fe64641e339",
   "metadata": {},
   "source": [
    "One of the tradeoffs of SMOTE include an improved Precision score, at the expense of Recall."
   ]
  },
  {
   "cell_type": "markdown",
   "id": "12e21fcc-6ea4-4af7-a5b3-266108383223",
   "metadata": {},
   "source": [
    "## Visualizations"
   ]
  },
  {
   "cell_type": "code",
   "execution_count": null,
   "id": "9e83c1e9-f679-459d-8eaf-2d73d384fc71",
   "metadata": {
    "tags": []
   },
   "outputs": [],
   "source": [
    "from sklearn.metrics import RocCurveDisplay\n",
    "from sklearn.metrics import PrecisionRecallDisplay, auc"
   ]
  },
  {
   "cell_type": "code",
   "execution_count": null,
   "id": "5abec1dc-1941-4e4b-a877-4fe2dde4957f",
   "metadata": {},
   "outputs": [],
   "source": [
    "LR_fitted = fittedmodels[0]\n",
    "DT_fitted = fittedmodels[1]\n",
    "RF_fitted = fittedmodels[2]\n",
    "Ada_fitted = fittedmodels[3]\n",
    "XGB_fitted = fittedmodels[4]\n",
    "NB_fitted = fittedmodels[5]\n",
    "KMeans_fitted = fittedmodels[6]\n",
    "LDA_fitted = fittedmodels[7]\n",
    "MLP_fitted = fittedmodels[8]\n",
    "\n",
    "modelfits = [('LR',LR_fitted), ('DT',DT_fitted),('RF',RF_fitted),('Ada',Ada_fitted),('XGB',XGB_fitted), ('NB',NB_fitted),('KMeans',KMeans_fitted),('LDA',LDA_fitted),('MLP',MLP_fitted)]"
   ]
  },
  {
   "cell_type": "code",
   "execution_count": null,
   "id": "dfc31bf9-1ecd-44da-a947-baacc2ef6e59",
   "metadata": {},
   "outputs": [],
   "source": []
  },
  {
   "cell_type": "code",
   "execution_count": null,
   "id": "1c116680-afba-4af2-ae01-cb5ed0aca7b4",
   "metadata": {},
   "outputs": [],
   "source": [
    "%config InlineBackend.figure_format = 'retina'  \n",
    "\n",
    "tprs = []\n",
    "aucs = []\n",
    "mean_fpr = np.linspace(0, 1, 100)\n",
    "for name, model in modelfits:\n",
    "    print(black(name, ['bold', 'underlined']))\n",
    "    tprs = []\n",
    "    aucs = []\n",
    "    mean_fpr = np.linspace(0, 1, 100)\n",
    "    fig, (ax1, ax2) = plt.subplots(1, 2, figsize=(20,5))\n",
    "    for i, fittedmodel in enumerate(model):\n",
    "        viz = RocCurveDisplay.from_estimator(\n",
    "            fittedmodel,\n",
    "            X_test,\n",
    "            y_test,\n",
    "            name=\"ROC fold {}\".format(i),\n",
    "            alpha=0.3,\n",
    "            lw=1,\n",
    "            ax=ax1,\n",
    "        )\n",
    "        viz2 = PrecisionRecallDisplay.from_estimator(\n",
    "            fittedmodel,\n",
    "            X_test,\n",
    "            y_test,\n",
    "            name=\"Fold {}\".format(i),\n",
    "            alpha=0.3,\n",
    "            lw=1,\n",
    "            ax=ax2,\n",
    "        )\n",
    "        interp_tpr = np.interp(mean_fpr, viz.fpr, viz.tpr)\n",
    "        interp_tpr[0] = 0.0\n",
    "        tprs.append(interp_tpr)\n",
    "        aucs.append(viz.roc_auc)\n",
    "\n",
    "    ax1.plot([0, 1], [0, 1], linestyle=\"--\", lw=2, color=\"r\", label=\"Chance\", alpha=0.8)\n",
    "\n",
    "    mean_tpr = np.mean(tprs, axis=0)\n",
    "    mean_tpr[-1] = 1.0\n",
    "    mean_auc = auc(mean_fpr, mean_tpr)\n",
    "    std_auc = np.std(aucs)\n",
    "    ax1.plot(\n",
    "        mean_fpr,\n",
    "        mean_tpr,\n",
    "        color=\"b\",\n",
    "        label=r\"Mean ROC (AUC = %0.2f $\\pm$ %0.2f)\" % (mean_auc, std_auc),\n",
    "        lw=2,\n",
    "        alpha=0.8,\n",
    "    )\n",
    "\n",
    "    std_tpr = np.std(tprs, axis=0)\n",
    "    tprs_upper = np.minimum(mean_tpr + std_tpr, 1)\n",
    "    tprs_lower = np.maximum(mean_tpr - std_tpr, 0)\n",
    "    ax1.fill_between(\n",
    "        mean_fpr,\n",
    "        tprs_lower,\n",
    "        tprs_upper,\n",
    "        color=\"grey\",\n",
    "        alpha=0.2,\n",
    "        label=r\"$\\pm$ 1 std. dev.\",\n",
    "    )\n",
    "\n",
    "    ax1.set(\n",
    "        xlim=[-0.05, 1.05],\n",
    "        ylim=[-0.05, 1.05],\n",
    "        title=\"Receiver Operating Characteristic Fold Comparison\",\n",
    "    )\n",
    "    ax1.legend(bbox_to_anchor=(1.05, 1), loc='upper left', borderaxespad=0.)\n",
    "        \n",
    "\n",
    "    ax2.set(\n",
    "        xlim=[-0.05, 1.05],\n",
    "        ylim=[-0.05, 1.05],\n",
    "        title=\"Precision Recall Fold Comparison\",\n",
    "    )\n",
    "    ax2.legend(bbox_to_anchor=(1.05, 1), loc='upper left', borderaxespad=0.)\n",
    "    fig.tight_layout()\n",
    "    plt.show()"
   ]
  },
  {
   "cell_type": "markdown",
   "id": "968a21ea-3781-4154-85af-7071d01d83ab",
   "metadata": {},
   "source": [
    "#### Boxplot Algorithm Comparison using Plotly"
   ]
  },
  {
   "cell_type": "code",
   "execution_count": null,
   "id": "e0c85e4c-8814-47d7-b938-7d0725d71b24",
   "metadata": {
    "tags": []
   },
   "outputs": [],
   "source": [
    "import plotly.graph_objects as go\n",
    "\n",
    "X_data = names\n",
    "N = 9\n",
    "y_data = results\n",
    "\n",
    "c = ['hsl('+str(h)+',50%'+',50%)' for h in np.linspace(0, 360, N)]\n",
    "\n",
    "fig = go.Figure()\n",
    "\n",
    "for Xd, yd, cls in zip(X_data, y_data, c):\n",
    "        fig.add_trace(go.Box(\n",
    "            y=yd,\n",
    "            name=Xd,\n",
    "            fillcolor=cls,\n",
    "            )\n",
    "        )\n",
    "\n",
    "fig.update_layout(\n",
    "    title={\n",
    "        'text': 'Algorithm Comparison of Model F1 Scores',\n",
    "        'y':0.9,\n",
    "        'x':0.5,\n",
    "        'xanchor': 'center',\n",
    "        'yanchor': 'top'},\n",
    "    yaxis=dict(\n",
    "        autorange=True,\n",
    "        showgrid=True,\n",
    "        zeroline=True,\n",
    "        gridcolor='rgb(255, 255, 255)',\n",
    "        zerolinecolor='rgb(255, 255, 255)'\n",
    "    ),\n",
    "    paper_bgcolor='rgb(243, 243, 243)',\n",
    "    plot_bgcolor='rgb(243, 243, 243)',\n",
    "    showlegend=True\n",
    ")\n",
    "fig.show()\n"
   ]
  },
  {
   "cell_type": "markdown",
   "id": "cc1a40d1-9094-4ae4-9c7b-a2d7980b1668",
   "metadata": {},
   "source": [
    "## Hyperparameter Tuning"
   ]
  },
  {
   "cell_type": "code",
   "execution_count": null,
   "id": "e96e1646-97ec-426c-aec8-94ae2c367d9b",
   "metadata": {},
   "outputs": [],
   "source": [
    "from sklearn.model_selection import GridSearchCV"
   ]
  },
  {
   "cell_type": "code",
   "execution_count": null,
   "id": "963090e2-7683-487c-b509-6d45d3c500b6",
   "metadata": {},
   "outputs": [],
   "source": [
    "models2tune = []\n",
    "\n",
    "models2tune.append(('LR', LogisticRegression(max_iter=10000)))\n",
    "models2tune.append(('RF', RandomForestClassifier(max_depth = 6)))\n",
    "models2tune.append(('Ada', AdaBoostClassifier()))\n",
    "models2tune.append(('XGB', XGBClassifier(eval_metric='logloss')))\n",
    "models2tune.append(('LDA', LinearDiscriminantAnalysis()))"
   ]
  },
  {
   "cell_type": "code",
   "execution_count": null,
   "id": "816ed351-9265-40df-8bca-d418703ce363",
   "metadata": {},
   "outputs": [],
   "source": [
    "params = [{'classifier__solver':['lbfgs', 'liblinear'], 'classifier__penalty': ['l2'], 'classifier__C': np.logspace(-3,3,20)}, \n",
    "          {'classifier__criterion': ['gini', 'entropy'], 'classifier__n_estimators': [200, 700], 'classifier__max_features': ['sqrt', 'log2']},\n",
    "          {'classifier__n_estimators': [100, 200],'classifier__learning_rate': [0.01, 0.1, .2, .5]},\n",
    "          {'classifier__max_depth': [1, 3, 5, 6], 'classifier__n_estimators': [60, 100, 200], 'classifier__learning_rate': [0.1, 0.01, 0.05, .2]},\n",
    "          {'classifier__solver': ['svd', 'lsqr', 'eigen']}]\n",
    "\n",
    "\n",
    "score={'AUC':'roc_auc', \n",
    "           'RECALL':'recall',\n",
    "           'PRECISION':'precision',\n",
    "           'F1':'f1'}\n",
    "\n",
    "# evaluate each model in turn\n",
    "names = []\n",
    "for param, classifier in zip(params, models2tune):\n",
    "    print(\"Working on...\")\n",
    "    print(black(classifier[0], ['bold', 'underlined']))\n",
    "    pipeline = imbpipeline(steps = [['smote', SMOTE(random_state=seed)],\n",
    "                                ['scaler', MinMaxScaler()],\n",
    "                                ['classifier', classifier[1]]])\n",
    "    kfold = model_selection.StratifiedKFold(n_splits=10, random_state=seed, shuffle=True)\n",
    "    grid_search = GridSearchCV(estimator=pipeline,\n",
    "                           param_grid=param,\n",
    "                           scoring=score,\n",
    "                           cv=kfold,\n",
    "                           n_jobs=-1,\n",
    "                           refit='AUC',\n",
    "                           return_train_score=True,\n",
    "                              error_score='raise') \n",
    "    \n",
    "    grid_search.fit(X_train, y_train)\n",
    "    cv_score = grid_search.best_score_\n",
    "    test_score = grid_search.score(X_test, y_test)\n",
    "    print(\"Best parameter for {} is {}\".format(classifier[0], grid_search.best_params_))\n",
    "    print(\"Best 'Roc_Auc'` for {} is {}\".format(classifier[0], grid_search.best_score_))\n",
    "    print(f'Cross-validation score: {cv_score}\\nTest score: {test_score}')\n",
    "    print('='*50)\n",
    "    print('\\n')\n",
    "\n",
    "    "
   ]
  },
  {
   "cell_type": "code",
   "execution_count": null,
   "id": "410d6ca6-0350-40f7-9db6-9cb0ff8103f3",
   "metadata": {},
   "outputs": [],
   "source": []
  }
 ],
 "metadata": {
  "kernelspec": {
   "display_name": "Python 3",
   "language": "python",
   "name": "python3"
  },
  "language_info": {
   "codemirror_mode": {
    "name": "ipython",
    "version": 3
   },
   "file_extension": ".py",
   "mimetype": "text/x-python",
   "name": "python",
   "nbconvert_exporter": "python",
   "pygments_lexer": "ipython3",
   "version": "3.8.8"
  }
 },
 "nbformat": 4,
 "nbformat_minor": 5
}
